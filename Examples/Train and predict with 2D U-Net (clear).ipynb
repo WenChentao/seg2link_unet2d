{
 "cells": [
  {
   "cell_type": "markdown",
   "id": "bfb8d79e",
   "metadata": {},
   "source": [
    "## Load program and data"
   ]
  },
  {
   "cell_type": "markdown",
   "id": "4940c037",
   "metadata": {},
   "source": [
    "### Load packages"
   ]
  },
  {
   "cell_type": "code",
   "execution_count": null,
   "id": "8d095726",
   "metadata": {},
   "outputs": [],
   "source": [
    "%load_ext autoreload\n",
    "%autoreload 2\n",
    "%matplotlib inline\n",
    "\n",
    "import os\n",
    "from Seg2linkUnet2d.unet2 import TrainingUNet2D, UNet2"
   ]
  },
  {
   "cell_type": "markdown",
   "id": "61b17138",
   "metadata": {},
   "source": [
    "### Create the trainer"
   ]
  },
  {
   "cell_type": "code",
   "execution_count": null,
   "id": "d026d58a",
   "metadata": {},
   "outputs": [],
   "source": [
    "trainer = TrainingUNet2D(data_path=os.path.abspath(\"./unet_01\"), model=UNet2)"
   ]
  },
  {
   "cell_type": "markdown",
   "id": "f2f40ed8",
   "metadata": {},
   "source": [
    "### Load training data"
   ]
  },
  {
   "cell_type": "code",
   "execution_count": null,
   "id": "a23f287b",
   "metadata": {
    "scrolled": false
   },
   "outputs": [],
   "source": [
    "trainer.load_dataset()\n",
    "trainer.draw_dataset()"
   ]
  },
  {
   "cell_type": "markdown",
   "id": "60458a86",
   "metadata": {},
   "source": [
    "### Normalize training data"
   ]
  },
  {
   "cell_type": "code",
   "execution_count": null,
   "id": "51cac375",
   "metadata": {},
   "outputs": [],
   "source": [
    "trainer.normalize()\n",
    "trainer.draw_norm_dataset()"
   ]
  },
  {
   "cell_type": "markdown",
   "id": "61f5c802",
   "metadata": {},
   "source": [
    "## Train 2D U-Net"
   ]
  },
  {
   "cell_type": "markdown",
   "id": "77c8cbb9",
   "metadata": {},
   "source": [
    "### Prepare training data by division and augmentation"
   ]
  },
  {
   "cell_type": "code",
   "execution_count": null,
   "id": "e79bde2c",
   "metadata": {
    "scrolled": false
   },
   "outputs": [],
   "source": [
    "trainer.divide_images()\n",
    "trainer.draw_divided_train_data()"
   ]
  },
  {
   "cell_type": "markdown",
   "id": "ef3c810b",
   "metadata": {},
   "source": [
    "### Train"
   ]
  },
  {
   "cell_type": "code",
   "execution_count": null,
   "id": "a7ba5e98",
   "metadata": {
    "scrolled": false
   },
   "outputs": [],
   "source": [
    "trainer.train(iteration=10)"
   ]
  },
  {
   "cell_type": "code",
   "execution_count": null,
   "id": "d5f93b3a",
   "metadata": {},
   "outputs": [],
   "source": [
    "trainer.train(iteration=10)"
   ]
  },
  {
   "cell_type": "code",
   "execution_count": null,
   "id": "8da32e9e",
   "metadata": {},
   "outputs": [],
   "source": [
    "trainer.train(iteration=10)"
   ]
  },
  {
   "cell_type": "markdown",
   "id": "c6c8d14d",
   "metadata": {},
   "source": [
    "## Predict cell/non-cell in test images"
   ]
  },
  {
   "cell_type": "markdown",
   "id": "01389b1b",
   "metadata": {},
   "source": [
    "### Load pretrained 2D U-Net"
   ]
  },
  {
   "cell_type": "code",
   "execution_count": null,
   "id": "9c64768a",
   "metadata": {},
   "outputs": [],
   "source": [
    "trainer.load_pretrained_unet(\n",
    "    r\"C:\\Wen\\Project\\seg2link_unet2d\\Examples\\unet_01\\models_2022_Apr_21-17_09_57\\pretrained_unet3.pt\"\n",
    ")"
   ]
  },
  {
   "cell_type": "markdown",
   "id": "51d583aa",
   "metadata": {},
   "source": [
    "### Predict and show result of the first slice"
   ]
  },
  {
   "cell_type": "code",
   "execution_count": null,
   "id": "521f1082",
   "metadata": {},
   "outputs": [],
   "source": [
    "trainer.predict_test_image1()"
   ]
  },
  {
   "cell_type": "markdown",
   "id": "f42ed03e",
   "metadata": {},
   "source": [
    "### Predict and save results for all slices"
   ]
  },
  {
   "cell_type": "code",
   "execution_count": null,
   "id": "23a1ffba",
   "metadata": {},
   "outputs": [],
   "source": [
    "trainer.save_predictions_test()"
   ]
  }
 ],
 "metadata": {
  "kernelspec": {
   "display_name": "Python 3 (ipykernel)",
   "language": "python",
   "name": "python3"
  },
  "language_info": {
   "codemirror_mode": {
    "name": "ipython",
    "version": 3
   },
   "file_extension": ".py",
   "mimetype": "text/x-python",
   "name": "python",
   "nbconvert_exporter": "python",
   "pygments_lexer": "ipython3",
   "version": "3.9.11"
  }
 },
 "nbformat": 4,
 "nbformat_minor": 5
}
