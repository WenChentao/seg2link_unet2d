{
 "cells": [
  {
   "cell_type": "markdown",
   "id": "3ffb6700",
   "metadata": {},
   "source": [
    "# Train 2D U-Net and make predictions\n",
    "**Author: Chentao Wen**"
   ]
  },
  {
   "cell_type": "markdown",
   "id": "0620d028",
   "metadata": {},
   "source": [
    "## Load program and data"
   ]
  },
  {
   "cell_type": "markdown",
   "id": "c60dc0dd",
   "metadata": {},
   "source": [
    "### Load packages"
   ]
  },
  {
   "cell_type": "code",
   "execution_count": null,
   "id": "8d095726",
   "metadata": {},
   "outputs": [],
   "source": [
    "%load_ext autoreload\n",
    "%autoreload 2\n",
    "%matplotlib inline\n",
    "\n",
    "import os\n",
    "from Seg2linkUnet2d.unet2 import TrainingUNet2D, UNet2"
   ]
  },
  {
   "cell_type": "markdown",
   "id": "b40b6e60",
   "metadata": {},
   "source": [
    "### Create the trainer"
   ]
  },
  {
   "cell_type": "code",
   "execution_count": null,
   "id": "d026d58a",
   "metadata": {},
   "outputs": [],
   "source": [
    "trainer = TrainingUNet2D(data_path=os.path.abspath(\"./unet_01\"), model=UNet2)"
   ]
  },
  {
   "cell_type": "markdown",
   "id": "e6d65eef",
   "metadata": {},
   "source": [
    "### Move the training data and test data to the folders like below:\n",
    "\n",
    "    │   Train and predict with 2D U-Net (clear).ipynb\n",
    "    └───unet_01\n",
    "        ├───models_2022_Apr_22-10_07_25\n",
    "        ├───test_image\n",
    "        │       EM raw data stack0000.tif\n",
    "        │       EM raw data stack0001.tif\n",
    "        │       EM raw data stack0002.tif\n",
    "        │       ...\n",
    "        ├───train_image\n",
    "        │       train_image0000.tif\n",
    "        │       train_image0001.tif\n",
    "        │       train_image0002.tif\n",
    "        │       ...\n",
    "        └───train_label\n",
    "                train_cells0000.tif\n",
    "                train_cells0001.tif\n",
    "                train_cells0002.tif\n",
    "                ...\n"
   ]
  },
  {
   "cell_type": "markdown",
   "id": "8797ed22",
   "metadata": {},
   "source": [
    "### Load training data"
   ]
  },
  {
   "cell_type": "code",
   "execution_count": null,
   "id": "a23f287b",
   "metadata": {
    "scrolled": false
   },
   "outputs": [],
   "source": [
    "trainer.load_dataset()\n",
    "trainer.draw_dataset()"
   ]
  },
  {
   "cell_type": "markdown",
   "id": "f4855db9",
   "metadata": {},
   "source": [
    "### Normalize training data"
   ]
  },
  {
   "cell_type": "code",
   "execution_count": null,
   "id": "51cac375",
   "metadata": {},
   "outputs": [],
   "source": [
    "trainer.normalize()\n",
    "trainer.draw_norm_dataset()"
   ]
  },
  {
   "cell_type": "markdown",
   "id": "40b09309",
   "metadata": {},
   "source": [
    "## Train 2D U-Net"
   ]
  },
  {
   "cell_type": "markdown",
   "id": "64bdd33c",
   "metadata": {},
   "source": [
    "### Prepare training data by division and augmentation"
   ]
  },
  {
   "cell_type": "code",
   "execution_count": null,
   "id": "e79bde2c",
   "metadata": {
    "scrolled": false
   },
   "outputs": [],
   "source": [
    "trainer.divide_images()\n",
    "trainer.draw_divided_train_data()"
   ]
  },
  {
   "cell_type": "markdown",
   "id": "d81bbbd6",
   "metadata": {},
   "source": [
    "### Train"
   ]
  },
  {
   "cell_type": "code",
   "execution_count": null,
   "id": "a7ba5e98",
   "metadata": {
    "scrolled": false
   },
   "outputs": [],
   "source": [
    "trainer.train(iteration=10)"
   ]
  },
  {
   "cell_type": "code",
   "execution_count": null,
   "id": "d5f93b3a",
   "metadata": {
    "scrolled": false
   },
   "outputs": [],
   "source": [
    "trainer.train(iteration=10)"
   ]
  },
  {
   "cell_type": "code",
   "execution_count": null,
   "id": "8da32e9e",
   "metadata": {},
   "outputs": [],
   "source": [
    "trainer.train(iteration=10)"
   ]
  },
  {
   "cell_type": "markdown",
   "id": "6898237b",
   "metadata": {},
   "source": [
    "## Predict cell/non-cell in test images"
   ]
  },
  {
   "cell_type": "markdown",
   "id": "23229c5f",
   "metadata": {},
   "source": [
    "### Load pretrained 2D U-Net\n",
    "Replace the path in the brackets with the "
   ]
  },
  {
   "cell_type": "code",
   "execution_count": null,
   "id": "b7abbd9e",
   "metadata": {},
   "outputs": [],
   "source": [
    "trainer.load_pretrained_unet(\n",
    "    r\"/home/wen/PycharmProjects/seg2link_unet2d/Examples/unet_01/models_2022_Apr_22-16_44_17/pretrained_unet3.pt\"\n",
    ")"
   ]
  },
  {
   "cell_type": "markdown",
   "id": "80bf864a",
   "metadata": {},
   "source": [
    "### Predict and show result of the first slice"
   ]
  },
  {
   "cell_type": "code",
   "execution_count": null,
   "id": "521f1082",
   "metadata": {},
   "outputs": [],
   "source": [
    "trainer.predict_test_image1()"
   ]
  },
  {
   "cell_type": "markdown",
   "id": "b11d341a",
   "metadata": {},
   "source": [
    "### Predict and save results for all slices"
   ]
  },
  {
   "cell_type": "code",
   "execution_count": null,
   "id": "c2c107f5",
   "metadata": {},
   "outputs": [],
   "source": [
    "trainer.save_predictions_test()"
   ]
  },
  {
   "cell_type": "code",
   "execution_count": null,
   "id": "7e6fffe7",
   "metadata": {},
   "outputs": [],
   "source": []
  }
 ],
 "metadata": {
  "kernelspec": {
   "display_name": "Python 3 (ipykernel)",
   "language": "python",
   "name": "python3"
  },
  "language_info": {
   "codemirror_mode": {
    "name": "ipython",
    "version": 3
   },
   "file_extension": ".py",
   "mimetype": "text/x-python",
   "name": "python",
   "nbconvert_exporter": "python",
   "pygments_lexer": "ipython3",
   "version": "3.9.11"
  }
 },
 "nbformat": 4,
 "nbformat_minor": 5
}
