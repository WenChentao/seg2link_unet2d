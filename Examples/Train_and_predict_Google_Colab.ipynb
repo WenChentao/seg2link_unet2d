{
  "cells": [
    {
      "cell_type": "markdown",
      "id": "3ffb6700",
      "metadata": {
        "id": "3ffb6700"
      },
      "source": [
        "# Train 2D U-Net and make predictions\n",
        "**Author: Chentao Wen**"
      ]
    },
    {
      "cell_type": "markdown",
      "source": [
        "## Install seg2link-unet2d"
      ],
      "metadata": {
        "id": "N3zZ9SYp6Evc"
      },
      "id": "N3zZ9SYp6Evc"
    },
    {
      "cell_type": "code",
      "source": [
        "!pip install seg2link-unet2d"
      ],
      "metadata": {
        "id": "M3WjN03W5ysx"
      },
      "id": "M3WjN03W5ysx",
      "execution_count": null,
      "outputs": []
    },
    {
      "cell_type": "markdown",
      "source": [
        "### Mount your Google drive and change current working directory to its root"
      ],
      "metadata": {
        "id": "AgbtjwsS8w68"
      },
      "id": "AgbtjwsS8w68"
    },
    {
      "cell_type": "code",
      "execution_count": null,
      "id": "HGEIZuABItX3",
      "metadata": {
        "id": "HGEIZuABItX3"
      },
      "outputs": [],
      "source": [
        "from google.colab import drive\n",
        "import os\n",
        "drive.mount('/content/drive')\n",
        "os.chdir(\"/content/drive/MyDrive\")"
      ]
    },
    {
      "cell_type": "markdown",
      "id": "983a294e",
      "metadata": {
        "id": "983a294e"
      },
      "source": [
        "### Move the raw images and training data to the unet_01 under the root of your Google Dirve:\n",
        "    root of your Google drive\n",
        "        └───unet_01\n",
        "            ├───raw_image\n",
        "            │       ├───raw_image0000.tif\n",
        "            │       ├───raw_image0001.tif\n",
        "            │       ├───raw_image0002.tif\n",
        "            │       └───...\n",
        "            ├───train_image\n",
        "            │       ├───train_image0000.tif\n",
        "            │       ├───train_image0001.tif\n",
        "            │       ├───train_image0002.tif\n",
        "            │       └───...\n",
        "            └───train_label\n",
        "                    ├───train_cells0000.tif\n",
        "                    ├───train_cells0001.tif\n",
        "                    ├───train_cells0002.tif\n",
        "                    └───...    \n"
      ]
    },
    {
      "cell_type": "markdown",
      "id": "0620d028",
      "metadata": {
        "id": "0620d028"
      },
      "source": [
        "## Load program and data"
      ]
    },
    {
      "cell_type": "markdown",
      "id": "c60dc0dd",
      "metadata": {
        "id": "c60dc0dd"
      },
      "source": [
        "### Load packages"
      ]
    },
    {
      "cell_type": "code",
      "execution_count": null,
      "id": "8d095726",
      "metadata": {
        "id": "8d095726"
      },
      "outputs": [],
      "source": [
        "%matplotlib inline\n",
        "from seg2link_unet2d.unet2 import TrainingUNet2D, UNet2"
      ]
    },
    {
      "cell_type": "markdown",
      "id": "b40b6e60",
      "metadata": {
        "id": "b40b6e60"
      },
      "source": [
        "### Create the trainer"
      ]
    },
    {
      "cell_type": "code",
      "execution_count": null,
      "id": "d026d58a",
      "metadata": {
        "id": "d026d58a"
      },
      "outputs": [],
      "source": [
        "trainer = TrainingUNet2D(data_path=\"./unet_01\", model=UNet2)"
      ]
    },
    {
      "cell_type": "markdown",
      "id": "8797ed22",
      "metadata": {
        "id": "8797ed22"
      },
      "source": [
        "### Load training data"
      ]
    },
    {
      "cell_type": "code",
      "execution_count": null,
      "id": "a23f287b",
      "metadata": {
        "id": "a23f287b",
        "scrolled": false
      },
      "outputs": [],
      "source": [
        "trainer.load_dataset()\n",
        "trainer.draw_dataset()"
      ]
    },
    {
      "cell_type": "markdown",
      "id": "f4855db9",
      "metadata": {
        "id": "f4855db9"
      },
      "source": [
        "### Normalize training data"
      ]
    },
    {
      "cell_type": "code",
      "execution_count": null,
      "id": "51cac375",
      "metadata": {
        "id": "51cac375"
      },
      "outputs": [],
      "source": [
        "trainer.normalize()\n",
        "trainer.draw_norm_dataset()"
      ]
    },
    {
      "cell_type": "markdown",
      "id": "40b09309",
      "metadata": {
        "id": "40b09309"
      },
      "source": [
        "## Train 2D U-Net"
      ]
    },
    {
      "cell_type": "markdown",
      "id": "64bdd33c",
      "metadata": {
        "id": "64bdd33c"
      },
      "source": [
        "### Prepare training data by division and augmentation"
      ]
    },
    {
      "cell_type": "code",
      "execution_count": null,
      "id": "e79bde2c",
      "metadata": {
        "id": "e79bde2c",
        "scrolled": false
      },
      "outputs": [],
      "source": [
        "trainer.divide_images()\n",
        "trainer.draw_divided_train_data()"
      ]
    },
    {
      "cell_type": "markdown",
      "id": "d81bbbd6",
      "metadata": {
        "id": "d81bbbd6"
      },
      "source": [
        "### Train"
      ]
    },
    {
      "cell_type": "code",
      "execution_count": null,
      "id": "a7ba5e98",
      "metadata": {
        "id": "a7ba5e98",
        "scrolled": false
      },
      "outputs": [],
      "source": [
        "trainer.train(iteration=10)"
      ]
    },
    {
      "cell_type": "code",
      "execution_count": null,
      "id": "d5f93b3a",
      "metadata": {
        "id": "d5f93b3a",
        "scrolled": false
      },
      "outputs": [],
      "source": [
        "trainer.train(iteration=10)"
      ]
    },
    {
      "cell_type": "code",
      "execution_count": null,
      "id": "8da32e9e",
      "metadata": {
        "id": "8da32e9e"
      },
      "outputs": [],
      "source": [
        "trainer.train(iteration=10)"
      ]
    },
    {
      "cell_type": "markdown",
      "id": "6898237b",
      "metadata": {
        "id": "6898237b"
      },
      "source": [
        "## Predict cell/non-cell in test images"
      ]
    },
    {
      "cell_type": "markdown",
      "id": "23229c5f",
      "metadata": {
        "id": "23229c5f"
      },
      "source": [
        "### Load pretrained 2D U-Net\n",
        "**Replace the path in the brackets with the file you have trained**"
      ]
    },
    {
      "cell_type": "code",
      "execution_count": null,
      "id": "b7abbd9e",
      "metadata": {
        "id": "b7abbd9e"
      },
      "outputs": [],
      "source": [
        "trainer.load_pretrained_unet(\n",
        "    r\"./unet_01/models_xxx/weights_training_epoch1.pt\"\n",
        ")"
      ]
    },
    {
      "cell_type": "markdown",
      "id": "80bf864a",
      "metadata": {
        "id": "80bf864a"
      },
      "source": [
        "### Predict and show result of a specific slice"
      ]
    },
    {
      "cell_type": "code",
      "execution_count": null,
      "id": "521f1082",
      "metadata": {
        "id": "521f1082"
      },
      "outputs": [],
      "source": [
        "trainer.predict_test_image(slice_number=1)"
      ]
    },
    {
      "cell_type": "markdown",
      "id": "b11d341a",
      "metadata": {
        "id": "b11d341a"
      },
      "source": [
        "### Predict and save results for all slices"
      ]
    },
    {
      "cell_type": "code",
      "execution_count": null,
      "id": "c2c107f5",
      "metadata": {
        "id": "c2c107f5"
      },
      "outputs": [],
      "source": [
        "trainer.save_predictions_test()"
      ]
    },
    {
      "cell_type": "code",
      "execution_count": null,
      "id": "7e6fffe7",
      "metadata": {
        "id": "7e6fffe7"
      },
      "outputs": [],
      "source": [
        ""
      ]
    }
  ],
  "metadata": {
    "accelerator": "GPU",
    "colab": {
      "name": "Train_and_predict_Google_Colab.ipynb",
      "provenance": [],
      "collapsed_sections": []
    },
    "gpuClass": "standard",
    "kernelspec": {
      "display_name": "Python 3 (ipykernel)",
      "language": "python",
      "name": "python3"
    },
    "language_info": {
      "codemirror_mode": {
        "name": "ipython",
        "version": 3
      },
      "file_extension": ".py",
      "mimetype": "text/x-python",
      "name": "python",
      "nbconvert_exporter": "python",
      "pygments_lexer": "ipython3",
      "version": "3.10.4"
    }
  },
  "nbformat": 4,
  "nbformat_minor": 5
}